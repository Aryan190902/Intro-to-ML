{
  "nbformat": 4,
  "nbformat_minor": 0,
  "metadata": {
    "colab": {
      "name": "Python Basics",
      "provenance": []
    },
    "kernelspec": {
      "name": "python3",
      "display_name": "Python 3"
    }
  },
  "cells": [
    {
      "cell_type": "code",
      "metadata": {
        "id": "qBEpLATkIBdW",
        "colab": {
          "base_uri": "https://localhost:8080/"
        },
        "outputId": "8ac342a1-ede9-4277-8d2f-309162ede84e"
      },
      "source": [
        "# shift + enter\n",
        "print(\"hello world\")"
      ],
      "execution_count": 1,
      "outputs": [
        {
          "output_type": "stream",
          "text": [
            "hello world\n"
          ],
          "name": "stdout"
        }
      ]
    },
    {
      "cell_type": "code",
      "metadata": {
        "id": "oSfVCvkaIaVg"
      },
      "source": [
        "#  creating variables\n",
        "n = 7"
      ],
      "execution_count": 2,
      "outputs": []
    },
    {
      "cell_type": "code",
      "metadata": {
        "id": "IdABzqukIh2i",
        "colab": {
          "base_uri": "https://localhost:8080/"
        },
        "outputId": "02fdfa3b-47c9-4598-a692-9485343d5a7d"
      },
      "source": [
        "print(n)"
      ],
      "execution_count": 3,
      "outputs": [
        {
          "output_type": "stream",
          "text": [
            "7\n"
          ],
          "name": "stdout"
        }
      ]
    },
    {
      "cell_type": "code",
      "metadata": {
        "id": "XEg4M8hEIl-N",
        "colab": {
          "base_uri": "https://localhost:8080/"
        },
        "outputId": "6d4a1d38-b3da-4bdf-b5a4-31dcd262f9f2"
      },
      "source": [
        "type(n)"
      ],
      "execution_count": 4,
      "outputs": [
        {
          "output_type": "execute_result",
          "data": {
            "text/plain": [
              "int"
            ]
          },
          "metadata": {
            "tags": []
          },
          "execution_count": 4
        }
      ]
    },
    {
      "cell_type": "code",
      "metadata": {
        "id": "Mfh49N43Iwae",
        "colab": {
          "base_uri": "https://localhost:8080/"
        },
        "outputId": "eff17550-7db2-4079-b40f-55ab466d472d"
      },
      "source": [
        "n = \"Hey\"\n",
        "print(n)\n",
        "print(type(n))"
      ],
      "execution_count": 5,
      "outputs": [
        {
          "output_type": "stream",
          "text": [
            "Hey\n",
            "<class 'str'>\n"
          ],
          "name": "stdout"
        }
      ]
    },
    {
      "cell_type": "code",
      "metadata": {
        "colab": {
          "base_uri": "https://localhost:8080/"
        },
        "id": "sr05mmuEqw5J",
        "outputId": "eaec4bf1-3091-4c64-8e67-bfe005313f32"
      },
      "source": [
        "print(n)"
      ],
      "execution_count": 6,
      "outputs": [
        {
          "output_type": "stream",
          "text": [
            "Hey\n"
          ],
          "name": "stdout"
        }
      ]
    },
    {
      "cell_type": "code",
      "metadata": {
        "id": "3_X41FtEI6fc",
        "colab": {
          "base_uri": "https://localhost:8080/"
        },
        "outputId": "1d54fc9d-dfd4-48fd-f0e4-ae44f4289e9f"
      },
      "source": [
        "i = 20\n",
        "\n",
        "if (i>=10):\n",
        "  print(\"number is greater than 10\")\n",
        "elif (i<5):\n",
        "  print(\"number is smaller than 5\")\n",
        "else:\n",
        "  print(\"number is between 5 and 10\")"
      ],
      "execution_count": 9,
      "outputs": [
        {
          "output_type": "stream",
          "text": [
            "number is greater than 10\n"
          ],
          "name": "stdout"
        }
      ]
    },
    {
      "cell_type": "code",
      "metadata": {
        "id": "uJFGYdc9JME7",
        "colab": {
          "base_uri": "https://localhost:8080/"
        },
        "outputId": "26b2fbee-a7e6-4b44-b98e-3e705579a9cc"
      },
      "source": [
        "i = 0\n",
        "\n",
        "while (i<=10):\n",
        "  print(i)\n",
        "  i = i + 1"
      ],
      "execution_count": 10,
      "outputs": [
        {
          "output_type": "stream",
          "text": [
            "0\n",
            "1\n",
            "2\n",
            "3\n",
            "4\n",
            "5\n",
            "6\n",
            "7\n",
            "8\n",
            "9\n",
            "10\n"
          ],
          "name": "stdout"
        }
      ]
    },
    {
      "cell_type": "code",
      "metadata": {
        "id": "M3q-FZtPJtcu",
        "colab": {
          "base_uri": "https://localhost:8080/"
        },
        "outputId": "c7495b4d-f60f-44c1-97bd-50dba40d05c1"
      },
      "source": [
        "for k in range(5, 20,3):\n",
        "  print(k)"
      ],
      "execution_count": 16,
      "outputs": [
        {
          "output_type": "stream",
          "text": [
            "5\n",
            "8\n",
            "11\n",
            "14\n",
            "17\n"
          ],
          "name": "stdout"
        }
      ]
    },
    {
      "cell_type": "code",
      "metadata": {
        "id": "nVzi4g44KG0R"
      },
      "source": [
        "# Function\n",
        "\n",
        "# return_type func_name(params){\n",
        "#     ...\n",
        "#     return something\n",
        "# }\n",
        "\n",
        "def greeter(name):\n",
        "  print(\"Hello \" + name)"
      ],
      "execution_count": 20,
      "outputs": []
    },
    {
      "cell_type": "code",
      "metadata": {
        "id": "1wXNgqLWK6_i",
        "colab": {
          "base_uri": "https://localhost:8080/"
        },
        "outputId": "d4127cdd-1ce0-4015-c55e-71bb70f23bb2"
      },
      "source": [
        "# function calling\n",
        "greeter(\"Students\")"
      ],
      "execution_count": 21,
      "outputs": [
        {
          "output_type": "stream",
          "text": [
            "Hello Students\n"
          ],
          "name": "stdout"
        }
      ]
    },
    {
      "cell_type": "markdown",
      "metadata": {
        "id": "Kc0pxobXLRVu"
      },
      "source": [
        "# Data Structures in Python\n",
        " - List\n",
        " - tuples\n",
        " - set\n",
        " - dictionary"
      ]
    },
    {
      "cell_type": "code",
      "metadata": {
        "id": "_WvsVTwZtJRY"
      },
      "source": [
        ""
      ],
      "execution_count": null,
      "outputs": []
    },
    {
      "cell_type": "code",
      "metadata": {
        "id": "7RjSJuAlLCvr"
      },
      "source": [
        "li = [5,2,9,10, 56, 23]"
      ],
      "execution_count": 22,
      "outputs": []
    },
    {
      "cell_type": "code",
      "metadata": {
        "id": "em3-BTx2L5oe",
        "colab": {
          "base_uri": "https://localhost:8080/"
        },
        "outputId": "3fdb048a-6292-42b4-ac51-7f967f2e8632"
      },
      "source": [
        "type(li)"
      ],
      "execution_count": 23,
      "outputs": [
        {
          "output_type": "execute_result",
          "data": {
            "text/plain": [
              "list"
            ]
          },
          "metadata": {
            "tags": []
          },
          "execution_count": 23
        }
      ]
    },
    {
      "cell_type": "code",
      "metadata": {
        "id": "5VvpOJPbL7Lt",
        "colab": {
          "base_uri": "https://localhost:8080/"
        },
        "outputId": "7b63372a-7d7c-4340-f971-32703ad08875"
      },
      "source": [
        "print(li[0])\n",
        "print(li[1])\n",
        "print(li[-1]) # Negative Indexing\n",
        "print(li[-6])"
      ],
      "execution_count": 26,
      "outputs": [
        {
          "output_type": "stream",
          "text": [
            "5\n",
            "2\n",
            "23\n",
            "5\n"
          ],
          "name": "stdout"
        }
      ]
    },
    {
      "cell_type": "code",
      "metadata": {
        "id": "Ow_q2Y5CMEUl",
        "colab": {
          "base_uri": "https://localhost:8080/"
        },
        "outputId": "9114004d-a32f-44e0-ccec-396e346c734e"
      },
      "source": [
        "# List slicing\n",
        "# li[start_index : end_index + 1 ]\n",
        "li[1 : 5]"
      ],
      "execution_count": 28,
      "outputs": [
        {
          "output_type": "execute_result",
          "data": {
            "text/plain": [
              "[2, 9, 10, 56]"
            ]
          },
          "metadata": {
            "tags": []
          },
          "execution_count": 28
        }
      ]
    },
    {
      "cell_type": "code",
      "metadata": {
        "id": "vW-L-cFVMfOH",
        "colab": {
          "base_uri": "https://localhost:8080/"
        },
        "outputId": "59033127-6965-4dd8-92c5-530229c0d8d9"
      },
      "source": [
        "li[ : 5]"
      ],
      "execution_count": 30,
      "outputs": [
        {
          "output_type": "execute_result",
          "data": {
            "text/plain": [
              "[5, 2, 9, 10, 56]"
            ]
          },
          "metadata": {
            "tags": []
          },
          "execution_count": 30
        }
      ]
    },
    {
      "cell_type": "code",
      "metadata": {
        "id": "4n5188mjNCru",
        "colab": {
          "base_uri": "https://localhost:8080/"
        },
        "outputId": "192be77e-c09e-4f65-fbdd-f2d9c3e3e76c"
      },
      "source": [
        "li[-6 : 2]"
      ],
      "execution_count": 31,
      "outputs": [
        {
          "output_type": "execute_result",
          "data": {
            "text/plain": [
              "[5, 2]"
            ]
          },
          "metadata": {
            "tags": []
          },
          "execution_count": 31
        }
      ]
    },
    {
      "cell_type": "code",
      "metadata": {
        "colab": {
          "base_uri": "https://localhost:8080/"
        },
        "id": "qEdfi4wjvJFl",
        "outputId": "d59221b9-ed09-4653-a61a-108abc211893"
      },
      "source": [
        "li"
      ],
      "execution_count": 32,
      "outputs": [
        {
          "output_type": "execute_result",
          "data": {
            "text/plain": [
              "[5, 2, 9, 10, 56, 23]"
            ]
          },
          "metadata": {
            "tags": []
          },
          "execution_count": 32
        }
      ]
    },
    {
      "cell_type": "code",
      "metadata": {
        "id": "1VM63qcfN9Pb"
      },
      "source": [
        "li.append(100)"
      ],
      "execution_count": 33,
      "outputs": []
    },
    {
      "cell_type": "code",
      "metadata": {
        "id": "Xh3AVOaXOBRL",
        "colab": {
          "base_uri": "https://localhost:8080/"
        },
        "outputId": "790179c4-24ad-4146-9828-6b51b28fa321"
      },
      "source": [
        "li"
      ],
      "execution_count": 34,
      "outputs": [
        {
          "output_type": "execute_result",
          "data": {
            "text/plain": [
              "[5, 2, 9, 10, 56, 23, 100]"
            ]
          },
          "metadata": {
            "tags": []
          },
          "execution_count": 34
        }
      ]
    },
    {
      "cell_type": "code",
      "metadata": {
        "id": "rbDpq8SgOCZ6"
      },
      "source": [
        "li.sort(reverse=True)"
      ],
      "execution_count": 37,
      "outputs": []
    },
    {
      "cell_type": "code",
      "metadata": {
        "id": "MEbBcNcFOHj-",
        "colab": {
          "base_uri": "https://localhost:8080/"
        },
        "outputId": "f0e29278-a8d6-4840-fa33-5309a9a68889"
      },
      "source": [
        "li"
      ],
      "execution_count": 38,
      "outputs": [
        {
          "output_type": "execute_result",
          "data": {
            "text/plain": [
              "[100, 56, 23, 10, 9, 5, 2]"
            ]
          },
          "metadata": {
            "tags": []
          },
          "execution_count": 38
        }
      ]
    },
    {
      "cell_type": "code",
      "metadata": {
        "id": "b40QeUMjOINn"
      },
      "source": [
        "li2 = [5,2,9,10, \"Hello World\", True, 6.4, 9.0, [1,2,3], 33, 11]"
      ],
      "execution_count": 39,
      "outputs": []
    },
    {
      "cell_type": "code",
      "metadata": {
        "id": "G5Z70UwiObbc",
        "colab": {
          "base_uri": "https://localhost:8080/"
        },
        "outputId": "56238186-cfdb-4dc4-b63e-f3cff172670a"
      },
      "source": [
        "li2"
      ],
      "execution_count": 40,
      "outputs": [
        {
          "output_type": "execute_result",
          "data": {
            "text/plain": [
              "[5, 2, 9, 10, 'Hello World', True, 6.4, 9.0, [1, 2, 3], 33, 11]"
            ]
          },
          "metadata": {
            "tags": []
          },
          "execution_count": 40
        }
      ]
    },
    {
      "cell_type": "code",
      "metadata": {
        "colab": {
          "base_uri": "https://localhost:8080/"
        },
        "id": "lpxUVmWvviMa",
        "outputId": "c0d21451-ff91-4370-aee3-bfaabc3c37cf"
      },
      "source": [
        "for ele in li2:\n",
        "  print(type(ele))\n",
        "  print(ele)"
      ],
      "execution_count": 43,
      "outputs": [
        {
          "output_type": "stream",
          "text": [
            "<class 'int'>\n",
            "5\n",
            "<class 'int'>\n",
            "2\n",
            "<class 'int'>\n",
            "9\n",
            "<class 'int'>\n",
            "10\n",
            "<class 'str'>\n",
            "Hello World\n",
            "<class 'bool'>\n",
            "True\n",
            "<class 'float'>\n",
            "6.4\n",
            "<class 'float'>\n",
            "9.0\n",
            "<class 'list'>\n",
            "[1, 2, 3]\n",
            "<class 'int'>\n",
            "33\n",
            "<class 'int'>\n",
            "11\n"
          ],
          "name": "stdout"
        }
      ]
    },
    {
      "cell_type": "code",
      "metadata": {
        "id": "VA9q7jWSOctt"
      },
      "source": [
        "tup = (5,6,8,1,10)"
      ],
      "execution_count": 44,
      "outputs": []
    },
    {
      "cell_type": "code",
      "metadata": {
        "id": "lUJCoJBzOpei",
        "colab": {
          "base_uri": "https://localhost:8080/"
        },
        "outputId": "5e3ccf88-b6bf-4e62-c531-59ee5113bbb7"
      },
      "source": [
        "type(tup)"
      ],
      "execution_count": 45,
      "outputs": [
        {
          "output_type": "execute_result",
          "data": {
            "text/plain": [
              "tuple"
            ]
          },
          "metadata": {
            "tags": []
          },
          "execution_count": 45
        }
      ]
    },
    {
      "cell_type": "code",
      "metadata": {
        "colab": {
          "base_uri": "https://localhost:8080/"
        },
        "id": "QrKyaYvdwGIS",
        "outputId": "79237d75-e886-4632-855d-4ac10ad9141d"
      },
      "source": [
        "tup"
      ],
      "execution_count": 46,
      "outputs": [
        {
          "output_type": "execute_result",
          "data": {
            "text/plain": [
              "(5, 6, 8, 1, 10)"
            ]
          },
          "metadata": {
            "tags": []
          },
          "execution_count": 46
        }
      ]
    },
    {
      "cell_type": "code",
      "metadata": {
        "colab": {
          "base_uri": "https://localhost:8080/"
        },
        "id": "8EZIbA_vwHaU",
        "outputId": "50904603-bb27-4208-dfad-d3733ec4da34"
      },
      "source": [
        "tup[-1]"
      ],
      "execution_count": 49,
      "outputs": [
        {
          "output_type": "execute_result",
          "data": {
            "text/plain": [
              "10"
            ]
          },
          "metadata": {
            "tags": []
          },
          "execution_count": 49
        }
      ]
    },
    {
      "cell_type": "code",
      "metadata": {
        "id": "QgNw8DT6O1-E",
        "colab": {
          "base_uri": "https://localhost:8080/",
          "height": 165
        },
        "outputId": "ae993bf7-8313-43ff-d088-2cf471767137"
      },
      "source": [
        "tup[0] = 50"
      ],
      "execution_count": 50,
      "outputs": [
        {
          "output_type": "error",
          "ename": "TypeError",
          "evalue": "ignored",
          "traceback": [
            "\u001b[0;31m---------------------------------------------------------------------------\u001b[0m",
            "\u001b[0;31mTypeError\u001b[0m                                 Traceback (most recent call last)",
            "\u001b[0;32m<ipython-input-50-13a3ee0d20e3>\u001b[0m in \u001b[0;36m<module>\u001b[0;34m()\u001b[0m\n\u001b[0;32m----> 1\u001b[0;31m \u001b[0mtup\u001b[0m\u001b[0;34m[\u001b[0m\u001b[0;36m0\u001b[0m\u001b[0;34m]\u001b[0m \u001b[0;34m=\u001b[0m \u001b[0;36m50\u001b[0m\u001b[0;34m\u001b[0m\u001b[0;34m\u001b[0m\u001b[0m\n\u001b[0m",
            "\u001b[0;31mTypeError\u001b[0m: 'tuple' object does not support item assignment"
          ]
        }
      ]
    },
    {
      "cell_type": "code",
      "metadata": {
        "id": "dG0PR31aO88h"
      },
      "source": [
        ""
      ],
      "execution_count": null,
      "outputs": []
    }
  ]
}